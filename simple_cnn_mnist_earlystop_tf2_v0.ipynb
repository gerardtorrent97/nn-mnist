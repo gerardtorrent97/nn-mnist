{
  "nbformat": 4,
  "nbformat_minor": 0,
  "metadata": {
    "kernelspec": {
      "display_name": "Python 3",
      "language": "python",
      "name": "python3"
    },
    "language_info": {
      "codemirror_mode": {
        "name": "ipython",
        "version": 3
      },
      "file_extension": ".py",
      "mimetype": "text/x-python",
      "name": "python",
      "nbconvert_exporter": "python",
      "pygments_lexer": "ipython3",
      "version": "3.7.4"
    },
    "colab": {
      "name": "simple-cnn-mnist-earlystop-tf2-v0.ipynb",
      "provenance": [],
      "collapsed_sections": []
    },
    "accelerator": "GPU"
  },
  "cells": [
    {
      "cell_type": "markdown",
      "metadata": {
        "id": "XYGH6GoZgfHS"
      },
      "source": [
        "![Nuclio logo](https://nuclio.school/wp-content/uploads/2018/12/nucleoDS-newBlack.png)"
      ]
    },
    {
      "cell_type": "markdown",
      "metadata": {
        "id": "ISAI3kOQgfHV"
      },
      "source": [
        "## Primer ejemplo de Red Neuronal para el Master de Data Science de Nuclio School con EarlyStop\n"
      ]
    },
    {
      "cell_type": "markdown",
      "metadata": {
        "id": "psl7aNNQgfHW"
      },
      "source": [
        "Recordemos los pasos a seguiren la creación de código para entrenar una red neuronal:\n",
        "<ol>\n",
        "    <li>Importar librerias: Keras, PyPlot y Numpy (añado time y datetime para controlar los tiempos de entrenamiento)</li>\n",
        "    <li>Definamos una red inicial (apilando bloques)</li>\n",
        "    <li>Definimos (o creamos) nuestro optimizador, añadiendo nuestra función error</li>\n",
        "    <li>Preparamos los datos (en este caso los cargamos)</li>\n",
        "    <li>Empezamos con el entrenamiento</li>\n",
        "    <li>Miramos los resultados y pasamos a la crítica mordaz</li>\n",
        "</ol>"
      ]
    },
    {
      "cell_type": "markdown",
      "metadata": {
        "id": "D_KOcUo4gfHX"
      },
      "source": [
        "## 1. Librerias\n",
        "\n",
        "Para empezar carguemos esas librerias que nos hacen falta"
      ]
    },
    {
      "cell_type": "code",
      "metadata": {
        "id": "hKP2pn0JgfHX"
      },
      "source": [
        "from tensorflow import keras as ks\n",
        "from tensorflow.keras.layers import Conv2D, MaxPooling2D, Dropout, Flatten, Dense\n",
        "from matplotlib import pyplot as plt\n",
        "import numpy as np\n",
        "import time\n",
        "import datetime\n",
        "\n",
        "# Cargamos la libreria de EarlyStop\n",
        "from tensorflow.keras.callbacks import EarlyStopping "
      ],
      "execution_count": 14,
      "outputs": []
    },
    {
      "cell_type": "markdown",
      "metadata": {
        "id": "pgfYLdNpgfHY"
      },
      "source": [
        "## 2. Arquitectura de red del modelo\n"
      ]
    },
    {
      "cell_type": "code",
      "metadata": {
        "id": "4zMy5y3MgfHb"
      },
      "source": [
        "model = ks.Sequential()\n",
        "\n",
        "model.add(Conv2D(32, (3, 3), strides=1, activation='relu',  kernel_initializer='he_uniform', input_shape=(28,28,1)))\n",
        "model.add(Conv2D(32, (3, 3), strides=1, activation='relu',  kernel_initializer='he_uniform'))\n",
        "model.add(MaxPooling2D((2, 2)))\n",
        "model.add(Dropout(0.5))\n",
        "model.add(Flatten())\n",
        "model.add(Dense(32, activation='relu'))\n",
        "model.add(Dropout(0.5))\n",
        "model.add(Dense(10, activation='softmax'))\n"
      ],
      "execution_count": 15,
      "outputs": []
    },
    {
      "cell_type": "markdown",
      "metadata": {
        "id": "ewTGwUFigfHc"
      },
      "source": [
        "Para revisar un modelo, nos basta con llamar al método **.summary()** del modelo"
      ]
    },
    {
      "cell_type": "code",
      "metadata": {
        "colab": {
          "base_uri": "https://localhost:8080/"
        },
        "id": "3KqLByJKgfHc",
        "outputId": "33f96547-8cff-4d71-9def-857df6e26ccb"
      },
      "source": [
        "model.summary()"
      ],
      "execution_count": 16,
      "outputs": [
        {
          "output_type": "stream",
          "text": [
            "Model: \"sequential_1\"\n",
            "_________________________________________________________________\n",
            "Layer (type)                 Output Shape              Param #   \n",
            "=================================================================\n",
            "conv2d_2 (Conv2D)            (None, 26, 26, 32)        320       \n",
            "_________________________________________________________________\n",
            "conv2d_3 (Conv2D)            (None, 24, 24, 32)        9248      \n",
            "_________________________________________________________________\n",
            "max_pooling2d_1 (MaxPooling2 (None, 12, 12, 32)        0         \n",
            "_________________________________________________________________\n",
            "dropout_2 (Dropout)          (None, 12, 12, 32)        0         \n",
            "_________________________________________________________________\n",
            "flatten_1 (Flatten)          (None, 4608)              0         \n",
            "_________________________________________________________________\n",
            "dense_2 (Dense)              (None, 32)                147488    \n",
            "_________________________________________________________________\n",
            "dropout_3 (Dropout)          (None, 32)                0         \n",
            "_________________________________________________________________\n",
            "dense_3 (Dense)              (None, 10)                330       \n",
            "=================================================================\n",
            "Total params: 157,386\n",
            "Trainable params: 157,386\n",
            "Non-trainable params: 0\n",
            "_________________________________________________________________\n"
          ],
          "name": "stdout"
        }
      ]
    },
    {
      "cell_type": "markdown",
      "metadata": {
        "id": "rV86YPtPgfHd"
      },
      "source": [
        "## 3. Optimizador, función error\n",
        "\n",
        "Definimos los parametros del modelo para su entrenamiento:\n",
        "* **Loss** - Función de error (función de coste) - Optamos por la Sparse Categorical Crosstentropy porque estamos clasificando imagenes\n",
        "* **Optimizer** - que optimizador de la función de coste usaremos, en este ejemplo Adam\n",
        "* **Metrics** - que metrica usaremos para evaluar el modelo... en este caso se usa la Accuracy\n"
      ]
    },
    {
      "cell_type": "code",
      "metadata": {
        "id": "C0_e-dSFgfHd"
      },
      "source": [
        "model.compile(optimizer='Adam',\n",
        "              loss='sparse_categorical_crossentropy',\n",
        "              metrics=['accuracy'], )"
      ],
      "execution_count": 17,
      "outputs": []
    },
    {
      "cell_type": "markdown",
      "metadata": {
        "id": "r_FilQ8ggfHd"
      },
      "source": [
        "## 4. Preparamos los datos\n",
        "\n",
        "Cargamos los datos de MNIST de los datasets directamente de las librerias de Keras. Estos ya estan dispuestos en train and test\n",
        "\n",
        "**Detalle importante:** \n",
        "> La red neuronal requiere que los inputs sean números reales, y lo haremos forzando la division de los valores de dentro de las matrices 28x28 (que tienen valoress del 0 al 255) por 255.0 (un real)"
      ]
    },
    {
      "cell_type": "code",
      "metadata": {
        "id": "dB_8SE8WgfHe"
      },
      "source": [
        "mnist = ks.datasets.mnist\n",
        "\n",
        "(x_train, y_train), (x_test, y_test) = mnist.load_data()\n",
        "\n",
        "x_train, x_test = x_train / 255.0, x_test / 255.0"
      ],
      "execution_count": 18,
      "outputs": []
    },
    {
      "cell_type": "markdown",
      "metadata": {
        "id": "3NcQj_0lgfHe"
      },
      "source": [
        "Pintemos una muestra de las imagenes del dataset MNIST, a ver si se parece en algo a lo que esperamos.\n",
        "Primero, vemos que tipos de datos tengo, después mapeamos esas matrices en una escala de grises utilizando el método **.get_cmap()** de PlotLy con los nueve primeros números del dataset."
      ]
    },
    {
      "cell_type": "code",
      "metadata": {
        "colab": {
          "base_uri": "https://localhost:8080/",
          "height": 321
        },
        "id": "Qzjopy4qgfHf",
        "outputId": "c978b3c2-12fc-4ff4-8a24-fe3c2938db21"
      },
      "source": [
        "print('Train: X=%s, y=%s' % (x_train.shape, y_train.shape))\n",
        "print('Test: X=%s, y=%s' % (x_test.shape, y_test.shape))\n",
        "\n",
        "for i in range(9):\n",
        "    # Definimos el subplot\n",
        "    plt.subplot(330 + 1 + i)\n",
        "    # Pintamos los datos en formato RAW\n",
        "    plt.imshow(x_train[i], cmap=plt.get_cmap('gray'))\n",
        "\n",
        "# Mostrar el dibujo\n",
        "plt.show()"
      ],
      "execution_count": 19,
      "outputs": [
        {
          "output_type": "stream",
          "text": [
            "Train: X=(60000, 28, 28), y=(60000,)\n",
            "Test: X=(10000, 28, 28), y=(10000,)\n"
          ],
          "name": "stdout"
        },
        {
          "output_type": "display_data",
          "data": {
            "image/png": "[encoded data removed]",
            "text/plain": [
              "<Figure size 432x288 with 9 Axes>"
            ]
          },
          "metadata": {
            "tags": [],
            "needs_background": "light"
          }
        }
      ]
    },
    {
      "cell_type": "markdown",
      "metadata": {
        "id": "KiCqPkaTgfHg"
      },
      "source": [
        "Como vamos a querer ir haciendo validación a la vez que entrenamos (muy practico)"
      ]
    },
    {
      "cell_type": "code",
      "metadata": {
        "id": "0OCkI4UfgfHh"
      },
      "source": [
        "x_val = x_train[-10000:]\n",
        "y_val = y_train[-10000:]\n",
        "\n",
        "x_train = x_train[:-10000]\n",
        "y_train = y_train[:-10000]\n"
      ],
      "execution_count": 20,
      "outputs": []
    },
    {
      "cell_type": "markdown",
      "metadata": {
        "id": "XEmRn04SgfHi"
      },
      "source": [
        "Cuando añadimos convoluciones, necesitamos \"pre-tratar los datos\", porque **la convolución es pera una matriz de 4 campos** (más parecido a \"imagenes\"), no un array de 3 como son actualmente los data sets de train, test y validación. Así que toca darle al **.reshape()**\n",
        "\n",
        "Por eso, al salir de la Convolution, hay que hacer un Flatten, porque las capas FullDense esperan arrays, no matrices!!\n",
        "\n",
        "Luego lo imprimimos para ver que todo está correcto"
      ]
    },
    {
      "cell_type": "code",
      "metadata": {
        "colab": {
          "base_uri": "https://localhost:8080/"
        },
        "id": "fDdnO1jcgfHj",
        "outputId": "5383551f-85b1-461e-b962-b3562d00f146"
      },
      "source": [
        "x_train_cnn = x_train.reshape((x_train.shape[0], 28, 28, 1))\n",
        "x_test_cnn = x_test.reshape((x_test.shape[0], 28, 28, 1))\n",
        "x_val_cnn = x_val.reshape((x_val.shape[0], 28, 28, 1))\n",
        "\n",
        "\n",
        "print('Train: X=%s, y=%s' % (x_train_cnn.shape, y_train.shape))\n",
        "print('Test: X=%s, y=%s' % (x_test_cnn.shape, y_test.shape))\n",
        "print('Validation: X=%s, y=%s' % (x_val_cnn.shape, y_val.shape))"
      ],
      "execution_count": 21,
      "outputs": [
        {
          "output_type": "stream",
          "text": [
            "Train: X=(50000, 28, 28, 1), y=(50000,)\n",
            "Test: X=(10000, 28, 28, 1), y=(10000,)\n",
            "Validation: X=(10000, 28, 28, 1), y=(10000,)\n"
          ],
          "name": "stdout"
        }
      ]
    },
    {
      "cell_type": "markdown",
      "metadata": {
        "id": "73R2BFsMgfHk"
      },
      "source": [
        "## 5. Definamos los callbacks para el Early Stopping\n",
        "\n"
      ]
    },
    {
      "cell_type": "code",
      "metadata": {
        "id": "k_7msWAJgfHk"
      },
      "source": [
        "callback_loss = EarlyStopping(\n",
        "    monitor=\"val_loss\",\n",
        "    patience=15\n",
        ")"
      ],
      "execution_count": 22,
      "outputs": []
    },
    {
      "cell_type": "code",
      "metadata": {
        "id": "-3CsA9Juh5ou"
      },
      "source": [
        "callback_acc = EarlyStopping(\n",
        "    monitor=\"val_accuracy\",\n",
        "    patience=10\n",
        ")"
      ],
      "execution_count": 23,
      "outputs": []
    },
    {
      "cell_type": "markdown",
      "metadata": {
        "id": "XhD9KmcXgfHk"
      },
      "source": [
        "## 6. Entrenamiento"
      ]
    },
    {
      "cell_type": "code",
      "metadata": {
        "id": "k47GQD14gfHl"
      },
      "source": [
        "t = time.perf_counter()"
      ],
      "execution_count": 24,
      "outputs": []
    },
    {
      "cell_type": "code",
      "metadata": {
        "colab": {
          "base_uri": "https://localhost:8080/"
        },
        "id": "CStAX1WOgfHl",
        "outputId": "cfc87934-41d9-4cbc-873e-4e8fbfd98a77"
      },
      "source": [
        "# primero miramos el accuracy y luego el loss\n",
        "history = model.fit(x_train_cnn, \n",
        "                    y_train, \n",
        "                    epochs=300,\n",
        "                    callbacks=[callback_acc, callback_loss], \n",
        "                    use_multiprocessing=False, \n",
        "                    validation_data=(x_val_cnn, y_val), \n",
        "                    batch_size=512\n",
        ")"
      ],
      "execution_count": 25,
      "outputs": [
        {
          "output_type": "stream",
          "text": [
            "Epoch 1/300\n",
            "98/98 [==============================] - 2s 14ms/step - loss: 1.5649 - accuracy: 0.4412 - val_loss: 0.2297 - val_accuracy: 0.9511\n",
            "Epoch 2/300\n",
            "98/98 [==============================] - 1s 10ms/step - loss: 0.5998 - accuracy: 0.7983 - val_loss: 0.1134 - val_accuracy: 0.9723\n",
            "Epoch 3/300\n",
            "98/98 [==============================] - 1s 10ms/step - loss: 0.4243 - accuracy: 0.8557 - val_loss: 0.0870 - val_accuracy: 0.9768\n",
            "Epoch 4/300\n",
            "98/98 [==============================] - 1s 10ms/step - loss: 0.3292 - accuracy: 0.8878 - val_loss: 0.0706 - val_accuracy: 0.9819\n",
            "Epoch 5/300\n",
            "98/98 [==============================] - 1s 10ms/step - loss: 0.2831 - accuracy: 0.9054 - val_loss: 0.0655 - val_accuracy: 0.9820\n",
            "Epoch 6/300\n",
            "98/98 [==============================] - 1s 10ms/step - loss: 0.2615 - accuracy: 0.9147 - val_loss: 0.0581 - val_accuracy: 0.9842\n",
            "Epoch 7/300\n",
            "98/98 [==============================] - 1s 10ms/step - loss: 0.2443 - accuracy: 0.9189 - val_loss: 0.0564 - val_accuracy: 0.9842\n",
            "Epoch 8/300\n",
            "98/98 [==============================] - 1s 10ms/step - loss: 0.2418 - accuracy: 0.9181 - val_loss: 0.0540 - val_accuracy: 0.9854\n",
            "Epoch 9/300\n",
            "98/98 [==============================] - 1s 10ms/step - loss: 0.2225 - accuracy: 0.9224 - val_loss: 0.0521 - val_accuracy: 0.9853\n",
            "Epoch 10/300\n",
            "98/98 [==============================] - 1s 10ms/step - loss: 0.2143 - accuracy: 0.9281 - val_loss: 0.0502 - val_accuracy: 0.9861\n",
            "Epoch 11/300\n",
            "98/98 [==============================] - 1s 10ms/step - loss: 0.2005 - accuracy: 0.9342 - val_loss: 0.0483 - val_accuracy: 0.9865\n",
            "Epoch 12/300\n",
            "98/98 [==============================] - 1s 10ms/step - loss: 0.1962 - accuracy: 0.9343 - val_loss: 0.0480 - val_accuracy: 0.9870\n",
            "Epoch 13/300\n",
            "98/98 [==============================] - 1s 10ms/step - loss: 0.1900 - accuracy: 0.9347 - val_loss: 0.0455 - val_accuracy: 0.9879\n",
            "Epoch 14/300\n",
            "98/98 [==============================] - 1s 10ms/step - loss: 0.1809 - accuracy: 0.9398 - val_loss: 0.0450 - val_accuracy: 0.9880\n",
            "Epoch 15/300\n",
            "98/98 [==============================] - 1s 10ms/step - loss: 0.1711 - accuracy: 0.9412 - val_loss: 0.0429 - val_accuracy: 0.9882\n",
            "Epoch 16/300\n",
            "98/98 [==============================] - 1s 10ms/step - loss: 0.1737 - accuracy: 0.9399 - val_loss: 0.0437 - val_accuracy: 0.9884\n",
            "Epoch 17/300\n",
            "98/98 [==============================] - 1s 10ms/step - loss: 0.1659 - accuracy: 0.9419 - val_loss: 0.0451 - val_accuracy: 0.9875\n",
            "Epoch 18/300\n",
            "98/98 [==============================] - 1s 10ms/step - loss: 0.1668 - accuracy: 0.9435 - val_loss: 0.0421 - val_accuracy: 0.9890\n",
            "Epoch 19/300\n",
            "98/98 [==============================] - 1s 10ms/step - loss: 0.1589 - accuracy: 0.9454 - val_loss: 0.0423 - val_accuracy: 0.9887\n",
            "Epoch 20/300\n",
            "98/98 [==============================] - 1s 10ms/step - loss: 0.1564 - accuracy: 0.9464 - val_loss: 0.0454 - val_accuracy: 0.9878\n",
            "Epoch 21/300\n",
            "98/98 [==============================] - 1s 10ms/step - loss: 0.1549 - accuracy: 0.9458 - val_loss: 0.0430 - val_accuracy: 0.9892\n",
            "Epoch 22/300\n",
            "98/98 [==============================] - 1s 10ms/step - loss: 0.1539 - accuracy: 0.9462 - val_loss: 0.0396 - val_accuracy: 0.9890\n",
            "Epoch 23/300\n",
            "98/98 [==============================] - 1s 10ms/step - loss: 0.1545 - accuracy: 0.9448 - val_loss: 0.0430 - val_accuracy: 0.9882\n",
            "Epoch 24/300\n",
            "98/98 [==============================] - 1s 10ms/step - loss: 0.1471 - accuracy: 0.9485 - val_loss: 0.0393 - val_accuracy: 0.9881\n",
            "Epoch 25/300\n",
            "98/98 [==============================] - 1s 10ms/step - loss: 0.1417 - accuracy: 0.9495 - val_loss: 0.0423 - val_accuracy: 0.9889\n",
            "Epoch 26/300\n",
            "98/98 [==============================] - 1s 10ms/step - loss: 0.1494 - accuracy: 0.9480 - val_loss: 0.0406 - val_accuracy: 0.9888\n",
            "Epoch 27/300\n",
            "98/98 [==============================] - 1s 10ms/step - loss: 0.1373 - accuracy: 0.9516 - val_loss: 0.0406 - val_accuracy: 0.9885\n",
            "Epoch 28/300\n",
            "98/98 [==============================] - 1s 10ms/step - loss: 0.1357 - accuracy: 0.9508 - val_loss: 0.0403 - val_accuracy: 0.9889\n",
            "Epoch 29/300\n",
            "98/98 [==============================] - 1s 10ms/step - loss: 0.1372 - accuracy: 0.9517 - val_loss: 0.0396 - val_accuracy: 0.9889\n",
            "Epoch 30/300\n",
            "98/98 [==============================] - 1s 10ms/step - loss: 0.1406 - accuracy: 0.9497 - val_loss: 0.0441 - val_accuracy: 0.9894\n",
            "Epoch 31/300\n",
            "98/98 [==============================] - 1s 10ms/step - loss: 0.1353 - accuracy: 0.9521 - val_loss: 0.0423 - val_accuracy: 0.9886\n",
            "Epoch 32/300\n",
            "98/98 [==============================] - 1s 10ms/step - loss: 0.1355 - accuracy: 0.9521 - val_loss: 0.0401 - val_accuracy: 0.9891\n",
            "Epoch 33/300\n",
            "98/98 [==============================] - 1s 10ms/step - loss: 0.1353 - accuracy: 0.9503 - val_loss: 0.0404 - val_accuracy: 0.9893\n",
            "Epoch 34/300\n",
            "98/98 [==============================] - 1s 10ms/step - loss: 0.1356 - accuracy: 0.9511 - val_loss: 0.0394 - val_accuracy: 0.9885\n",
            "Epoch 35/300\n",
            "98/98 [==============================] - 1s 10ms/step - loss: 0.1281 - accuracy: 0.9529 - val_loss: 0.0412 - val_accuracy: 0.9881\n",
            "Epoch 36/300\n",
            "98/98 [==============================] - 1s 10ms/step - loss: 0.1297 - accuracy: 0.9544 - val_loss: 0.0382 - val_accuracy: 0.9892\n",
            "Epoch 37/300\n",
            "98/98 [==============================] - 1s 10ms/step - loss: 0.1298 - accuracy: 0.9520 - val_loss: 0.0396 - val_accuracy: 0.9901\n",
            "Epoch 38/300\n",
            "98/98 [==============================] - 1s 10ms/step - loss: 0.1308 - accuracy: 0.9535 - val_loss: 0.0381 - val_accuracy: 0.9896\n",
            "Epoch 39/300\n",
            "98/98 [==============================] - 1s 10ms/step - loss: 0.1296 - accuracy: 0.9534 - val_loss: 0.0397 - val_accuracy: 0.9894\n",
            "Epoch 40/300\n",
            "98/98 [==============================] - 1s 10ms/step - loss: 0.1252 - accuracy: 0.9533 - val_loss: 0.0423 - val_accuracy: 0.9892\n",
            "Epoch 41/300\n",
            "98/98 [==============================] - 1s 10ms/step - loss: 0.1192 - accuracy: 0.9562 - val_loss: 0.0382 - val_accuracy: 0.9902\n",
            "Epoch 42/300\n",
            "98/98 [==============================] - 1s 10ms/step - loss: 0.1273 - accuracy: 0.9545 - val_loss: 0.0390 - val_accuracy: 0.9903\n",
            "Epoch 43/300\n",
            "98/98 [==============================] - 1s 10ms/step - loss: 0.1195 - accuracy: 0.9547 - val_loss: 0.0428 - val_accuracy: 0.9898\n",
            "Epoch 44/300\n",
            "98/98 [==============================] - 1s 10ms/step - loss: 0.1261 - accuracy: 0.9553 - val_loss: 0.0405 - val_accuracy: 0.9902\n",
            "Epoch 45/300\n",
            "98/98 [==============================] - 1s 10ms/step - loss: 0.1241 - accuracy: 0.9541 - val_loss: 0.0410 - val_accuracy: 0.9899\n",
            "Epoch 46/300\n",
            "98/98 [==============================] - 1s 10ms/step - loss: 0.1224 - accuracy: 0.9554 - val_loss: 0.0397 - val_accuracy: 0.9901\n",
            "Epoch 47/300\n",
            "98/98 [==============================] - 1s 10ms/step - loss: 0.1231 - accuracy: 0.9544 - val_loss: 0.0398 - val_accuracy: 0.9898\n",
            "Epoch 48/300\n",
            "98/98 [==============================] - 1s 10ms/step - loss: 0.1216 - accuracy: 0.9558 - val_loss: 0.0392 - val_accuracy: 0.9903\n",
            "Epoch 49/300\n",
            "98/98 [==============================] - 1s 10ms/step - loss: 0.1232 - accuracy: 0.9555 - val_loss: 0.0398 - val_accuracy: 0.9898\n",
            "Epoch 50/300\n",
            "98/98 [==============================] - 1s 10ms/step - loss: 0.1243 - accuracy: 0.9555 - val_loss: 0.0398 - val_accuracy: 0.9907\n",
            "Epoch 51/300\n",
            "98/98 [==============================] - 1s 10ms/step - loss: 0.1125 - accuracy: 0.9594 - val_loss: 0.0395 - val_accuracy: 0.9900\n",
            "Epoch 52/300\n",
            "98/98 [==============================] - 1s 10ms/step - loss: 0.1144 - accuracy: 0.9595 - val_loss: 0.0420 - val_accuracy: 0.9900\n",
            "Epoch 53/300\n",
            "98/98 [==============================] - 1s 10ms/step - loss: 0.1175 - accuracy: 0.9588 - val_loss: 0.0371 - val_accuracy: 0.9915\n",
            "Epoch 54/300\n",
            "98/98 [==============================] - 1s 10ms/step - loss: 0.1041 - accuracy: 0.9640 - val_loss: 0.0390 - val_accuracy: 0.9899\n",
            "Epoch 55/300\n",
            "98/98 [==============================] - 1s 10ms/step - loss: 0.1181 - accuracy: 0.9580 - val_loss: 0.0435 - val_accuracy: 0.9894\n",
            "Epoch 56/300\n",
            "98/98 [==============================] - 1s 10ms/step - loss: 0.1080 - accuracy: 0.9615 - val_loss: 0.0372 - val_accuracy: 0.9908\n",
            "Epoch 57/300\n",
            "98/98 [==============================] - 1s 10ms/step - loss: 0.1072 - accuracy: 0.9626 - val_loss: 0.0371 - val_accuracy: 0.9901\n",
            "Epoch 58/300\n",
            "98/98 [==============================] - 1s 10ms/step - loss: 0.1138 - accuracy: 0.9593 - val_loss: 0.0394 - val_accuracy: 0.9905\n",
            "Epoch 59/300\n",
            "98/98 [==============================] - 1s 10ms/step - loss: 0.1061 - accuracy: 0.9620 - val_loss: 0.0395 - val_accuracy: 0.9910\n",
            "Epoch 60/300\n",
            "98/98 [==============================] - 1s 10ms/step - loss: 0.1086 - accuracy: 0.9613 - val_loss: 0.0406 - val_accuracy: 0.9902\n",
            "Epoch 61/300\n",
            "98/98 [==============================] - 1s 10ms/step - loss: 0.1058 - accuracy: 0.9627 - val_loss: 0.0396 - val_accuracy: 0.9908\n",
            "Epoch 62/300\n",
            "98/98 [==============================] - 1s 10ms/step - loss: 0.1054 - accuracy: 0.9631 - val_loss: 0.0407 - val_accuracy: 0.9904\n",
            "Epoch 63/300\n",
            "98/98 [==============================] - 1s 10ms/step - loss: 0.1036 - accuracy: 0.9626 - val_loss: 0.0399 - val_accuracy: 0.9906\n"
          ],
          "name": "stdout"
        }
      ]
    },
    {
      "cell_type": "code",
      "metadata": {
        "colab": {
          "base_uri": "https://localhost:8080/"
        },
        "id": "BdaQ9bFegfHm",
        "outputId": "56cdde75-9c1f-4ec6-c6cf-4adba8bb2ed4"
      },
      "source": [
        "elapsed_time = datetime.timedelta(seconds=(time.perf_counter() - t))\n",
        "\n",
        "print('Tiempo de entrenamiento:', elapsed_time)"
      ],
      "execution_count": 26,
      "outputs": [
        {
          "output_type": "stream",
          "text": [
            "Tiempo de entrenamiento: 0:01:05.608790\n"
          ],
          "name": "stdout"
        }
      ]
    },
    {
      "cell_type": "markdown",
      "metadata": {
        "id": "YxsVv3JkgfHm"
      },
      "source": [
        "## 6. Evaluamos los resultados\n",
        "\n",
        "Obtengamos una grafica de como el error y la accuracy van evolucionando en cada epoch en los datos de entrenamiento y en la validación"
      ]
    },
    {
      "cell_type": "code",
      "metadata": {
        "colab": {
          "base_uri": "https://localhost:8080/",
          "height": 565
        },
        "id": "T7NQ0rQ1gfHn",
        "outputId": "d07218e3-5f05-4177-c656-747f569fdc09"
      },
      "source": [
        "plt.title('Cross Entropy Loss')\n",
        "plt.plot(history.history['loss'], color='blue', label='train')\n",
        "plt.plot(history.history['val_loss'], color='orange', label='test')\n",
        "plt.show()\n",
        "\n",
        "plt.title('Classification Accuracy')\n",
        "plt.plot(history.history['accuracy'], color='blue', label='train')\n",
        "plt.plot(history.history['val_accuracy'], color='orange', label='test')\n",
        "plt.show()"
      ],
      "execution_count": 27,
      "outputs": [
        {
          "output_type": "display_data",
          "data": {
            "image/png": "[encoded data removed]",
            "text/plain": [
              "<Figure size 432x288 with 1 Axes>"
            ]
          },
          "metadata": {
            "tags": [],
            "needs_background": "light"
          }
        },
        {
          "output_type": "display_data",
          "data": {
            "image/png": "[encoded data removed]",
            "text/plain": [
              "<Figure size 432x288 with 1 Axes>"
            ]
          },
          "metadata": {
            "tags": [],
            "needs_background": "light"
          }
        }
      ]
    },
    {
      "cell_type": "markdown",
      "metadata": {
        "id": "I5BgRE6NgfHo"
      },
      "source": [
        "Evaluemos el modelo contra los valores de testeo"
      ]
    },
    {
      "cell_type": "code",
      "metadata": {
        "colab": {
          "base_uri": "https://localhost:8080/"
        },
        "id": "hRE5lKGDgfHp",
        "outputId": "e521d421-6a7a-48eb-d697-f1831c7c9e14"
      },
      "source": [
        "model.evaluate(x_test_cnn,  y_test, verbose=2)"
      ],
      "execution_count": 28,
      "outputs": [
        {
          "output_type": "stream",
          "text": [
            "313/313 - 1s - loss: 0.0323 - accuracy: 0.9911\n"
          ],
          "name": "stdout"
        },
        {
          "output_type": "execute_result",
          "data": {
            "text/plain": [
              "[0.03225473687052727, 0.991100013256073]"
            ]
          },
          "metadata": {
            "tags": []
          },
          "execution_count": 28
        }
      ]
    },
    {
      "cell_type": "markdown",
      "metadata": {
        "id": "36-FMKIMgfHr"
      },
      "source": [
        "El coste podemos ver que es estable y es en el epoch 15 que se fija en un valor. Además la accuracy baila alrededor de 0.10. No se puede decir que sea un modelo muy bueno.\n",
        "\n",
        "Veamos que tipo de predicciones estoy obteniendo sobre el conjunto de test (vamos a pintar las imagenes y sus clasificaciones)"
      ]
    },
    {
      "cell_type": "code",
      "metadata": {
        "id": "49pySV6XgfHs"
      },
      "source": [
        "predictions = model.predict(x_test_cnn)"
      ],
      "execution_count": 31,
      "outputs": []
    },
    {
      "cell_type": "markdown",
      "metadata": {
        "id": "PTgq2yR_gfHs"
      },
      "source": [
        "Una de las ventajas de Python es que hay montones de funciones y código realizado por terceras personas. Aquí me he fusilado unas bonitas funciones (que he adaptado un poco a mis necesidades) para poder pintar las imagenes, su label (ground truth) y las clasificaciones que hemos realizado."
      ]
    },
    {
      "cell_type": "code",
      "metadata": {
        "id": "S2v3_8J_gfHt"
      },
      "source": [
        "def plot_image(i, predictions_array, true_label, img):\n",
        "  predictions_array, true_label, img = predictions_array, true_label[i], img[i]\n",
        "  plt.grid(False)\n",
        "  plt.xticks([])\n",
        "  plt.yticks([])\n",
        "\n",
        "  plt.imshow(img, cmap=plt.cm.binary)\n",
        "\n",
        "  predicted_label = np.argmax(predictions_array)\n",
        "  if predicted_label == true_label:\n",
        "    color = 'blue'\n",
        "  else:\n",
        "    color = 'red'\n",
        "\n",
        "  plt.xlabel(\"{} {:2.0f}% ({})\".format(predicted_label,\n",
        "                                100*np.max(predictions_array),\n",
        "                                true_label),\n",
        "                                color=color)\n",
        "\n",
        "def plot_value_array(i, predictions_array, true_label):\n",
        "  predictions_array, true_label = predictions_array, true_label[i]\n",
        "  plt.grid(False)\n",
        "  plt.xticks(range(10))\n",
        "  plt.yticks([])\n",
        "  thisplot = plt.bar(range(10), predictions_array, color=\"#777777\")\n",
        "  plt.ylim([0, 1])\n",
        "  predicted_label = np.argmax(predictions_array)\n",
        "\n",
        "  thisplot[predicted_label].set_color('red')\n",
        "  thisplot[true_label].set_color('blue')"
      ],
      "execution_count": 32,
      "outputs": []
    },
    {
      "cell_type": "markdown",
      "metadata": {
        "id": "DAZQOX7XgfHu"
      },
      "source": [
        "Dibujamos los primeros digitos, con las predicciones y sus valores reales (un total de 20 imagenes, para no abusar de vuestros laptops)\n",
        "\n",
        "Coloreamos las prediciones correctas en azul y los fallos en rojo"
      ]
    },
    {
      "cell_type": "code",
      "metadata": {
        "colab": {
          "base_uri": "https://localhost:8080/",
          "height": 431
        },
        "id": "3lhBzAyNgfHx",
        "outputId": "3973a4e0-e656-465e-ca62-a1ee40de8dee"
      },
      "source": [
        "num_rows = 5\n",
        "num_cols = 4\n",
        "start = 650\n",
        "num_images = num_rows*num_cols\n",
        "plt.figure(figsize=(2*2*num_cols, 2*num_rows))\n",
        "for i in range(num_images):\n",
        "  plt.subplot(num_rows, 2*num_cols, 2*i+1)\n",
        "  plot_image(i+start, predictions[i+start], y_test, x_test)\n",
        "  plt.subplot(num_rows, 2*num_cols, 2*i+2)\n",
        "  plot_value_array(i+start, predictions[i+start], y_test)\n",
        "plt.tight_layout()\n",
        "plt.show()"
      ],
      "execution_count": 33,
      "outputs": [
        {
          "output_type": "display_data",
          "data": {
            "image/png": "[encoded data removed]",
            "text/plain": [
              "<Figure size 1152x720 with 40 Axes>"
            ]
          },
          "metadata": {
            "tags": [],
            "needs_background": "light"
          }
        }
      ]
    },
    {
      "cell_type": "code",
      "metadata": {
        "id": "Nx6tz5hrgfHy"
      },
      "source": [
        ""
      ],
      "execution_count": 33,
      "outputs": []
    },
    {
      "cell_type": "code",
      "metadata": {
        "id": "3AKTrgW8gfH0"
      },
      "source": [
        ""
      ],
      "execution_count": 33,
      "outputs": []
    },
    {
      "cell_type": "code",
      "metadata": {
        "id": "R8utQPEygfH0"
      },
      "source": [
        ""
      ],
      "execution_count": 33,
      "outputs": []
    }
  ]
}